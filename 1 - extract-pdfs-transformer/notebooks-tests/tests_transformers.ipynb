{
 "cells": [
  {
   "cell_type": "markdown",
   "metadata": {},
   "source": [
    "### Teste Transformers"
   ]
  },
  {
   "cell_type": "code",
   "execution_count": 6,
   "metadata": {},
   "outputs": [],
   "source": [
    "import json\n",
    "from transformers import pipeline\n",
    "import os"
   ]
  },
  {
   "cell_type": "code",
   "execution_count": 15,
   "metadata": {},
   "outputs": [],
   "source": [
    "BASE_DIR = os.getcwd()\n",
    "DIR_PAI = os.path.dirname(BASE_DIR)\n",
    "DIR_DATA = os.path.join(DIR_PAI, \"data\")\n",
    "DIR_DATA_RAW = os.path.join(DIR_DATA, \"raw\")\n",
    "DIR_DATA_PROCESSED =  os.path.join(DIR_DATA, \"processed\")\n",
    "DIR_DATA_OUTPUTS =  os.path.join(DIR_DATA, \"outputs\")\n",
    "DIR_DATA_OUTPUTS_TRANSFORMERS =  os.path.join(DIR_DATA, \"outputs_transformers\")\n",
    "DIR_DATA_PROCESSED_CLEAN =  os.path.join(DIR_DATA, \"processed_clean\")"
   ]
  },
  {
   "cell_type": "code",
   "execution_count": 10,
   "metadata": {},
   "outputs": [],
   "source": [
    "def load_transformer_pipeline(task, model_name):\n",
    "    \"\"\"\n",
    "    Configura e retorna um pipeline HuggingFace para a tarefa especificada.\n",
    "    Args:\n",
    "        task (str): A tarefa que o pipeline deve realizar (ex: \"summarization\", \"question-answering\").\n",
    "        model_name (str): O nome ou caminho do modelo pré-treinado.\n",
    "    Returns:\n",
    "        pipeline: Um pipeline configurado do HuggingFace Transformers.\n",
    "    \"\"\"\n",
    "    return pipeline(task, model=model_name)"
   ]
  },
  {
   "cell_type": "code",
   "execution_count": 11,
   "metadata": {},
   "outputs": [],
   "source": [
    "def process_summarization(texts, transformer_pipeline):\n",
    "    \"\"\"\n",
    "    Processa uma lista de textos para a tarefa de sumarização.\n",
    "    Args:\n",
    "        texts (list): Lista de textos para processar.\n",
    "        transformer_pipeline (pipeline): Pipeline do HuggingFace configurado para sumarização.\n",
    "    Returns:\n",
    "        list: Lista de resumos gerados.\n",
    "    \"\"\"\n",
    "    summaries = []\n",
    "    for text in texts:\n",
    "        try:\n",
    "            summary = transformer_pipeline(\n",
    "                text, truncation=True, max_length=200, min_length=30\n",
    "            )\n",
    "            summaries.append(summary[0][\"summary_text\"])\n",
    "        except Exception as e:\n",
    "            print(f\"Erro ao processar texto para sumarização: {e}\")\n",
    "            summaries.append(\"\")\n",
    "    return summaries"
   ]
  },
  {
   "cell_type": "code",
   "execution_count": 12,
   "metadata": {},
   "outputs": [],
   "source": [
    "def process_question_answering(texts, transformer_pipeline, question):\n",
    "    \"\"\"\n",
    "    Processa uma lista de textos para a tarefa de question-answering (QA).\n",
    "    Args:\n",
    "        texts (list): Lista de textos para processar.\n",
    "        transformer_pipeline (pipeline): Pipeline do HuggingFace configurado para QA.\n",
    "        question (str): Pergunta a ser feita para cada texto.\n",
    "    Returns:\n",
    "        list: Lista de respostas geradas.\n",
    "    \"\"\"\n",
    "    answers = []\n",
    "    for text in texts:\n",
    "        try:\n",
    "            answer = transformer_pipeline(question=question, context=text)\n",
    "            answers.append(answer[\"answer\"])\n",
    "        except Exception as e:\n",
    "            print(f\"Erro ao processar texto para QA: {e}\")\n",
    "            answers.append(\"\")\n",
    "    return answers"
   ]
  },
  {
   "cell_type": "code",
   "execution_count": 13,
   "metadata": {},
   "outputs": [],
   "source": [
    "def process_json_files(input_dir, output_dir, transformer_pipeline, task, question=None):\n",
    "    \"\"\"\n",
    "    Processa arquivos JSON contendo textos e aplica o modelo Transformer para a tarefa especificada.\n",
    "    Args:\n",
    "        input_dir (str): Caminho para a pasta de entrada contendo os arquivos JSON.\n",
    "        output_dir (str): Caminho para a pasta de saída onde os resultados serão salvos.\n",
    "        transformer_pipeline (pipeline): Pipeline do HuggingFace configurado.\n",
    "        task (str): A tarefa a ser realizada (\"summarization\" ou \"question-answering\").\n",
    "        question (str): Pergunta para QA (necessária se task=\"question-answering\").\n",
    "    \"\"\"\n",
    "    os.makedirs(output_dir, exist_ok=True)\n",
    "    for json_file in os.listdir(input_dir):\n",
    "        if json_file.endswith(\".json\"):\n",
    "            input_path = os.path.join(input_dir, json_file)\n",
    "            output_path = os.path.join(output_dir, json_file)\n",
    "\n",
    "            with open(input_path, \"r\", encoding=\"utf-8\") as f:\n",
    "                data = json.load(f)\n",
    "\n",
    "            texts = [entry[\"text\"] for entry in data]\n",
    "            if task == \"summarization\":\n",
    "                results = process_summarization(texts, transformer_pipeline)\n",
    "            elif task == \"question-answering\":\n",
    "                if not question:\n",
    "                    raise ValueError(\"Uma pergunta deve ser fornecida para QA.\")\n",
    "                results = process_question_answering(texts, transformer_pipeline, question)\n",
    "            else:\n",
    "                raise ValueError(f\"Tarefa '{task}' não suportada.\")\n",
    "\n",
    "            # Adicionar os resultados aos dados originais\n",
    "            for entry, result in zip(data, results):\n",
    "                entry[task] = result\n",
    "\n",
    "            # Salvar os resultados processados\n",
    "            with open(output_path, \"w\", encoding=\"utf-8\") as f:\n",
    "                json.dump(data, f, ensure_ascii=False, indent=4)\n",
    "\n",
    "            print(f\"Processado e salvo: {output_path}\")"
   ]
  },
  {
   "cell_type": "code",
   "execution_count": null,
   "metadata": {},
   "outputs": [
    {
     "name": "stdout",
     "output_type": "stream",
     "text": [
      "Carregando modelo google/flan-t5-small para a tarefa 'summarization'...\n"
     ]
    },
    {
     "name": "stderr",
     "output_type": "stream",
     "text": [
      "Your max_length is set to 200, but your input_length is only 129. Since this is a summarization task, where outputs shorter than the input are typically wanted, you might consider decreasing max_length manually, e.g. summarizer('...', max_length=64)\n",
      "Your max_length is set to 200, but your input_length is only 183. Since this is a summarization task, where outputs shorter than the input are typically wanted, you might consider decreasing max_length manually, e.g. summarizer('...', max_length=91)\n",
      "Your max_length is set to 200, but your input_length is only 126. Since this is a summarization task, where outputs shorter than the input are typically wanted, you might consider decreasing max_length manually, e.g. summarizer('...', max_length=63)\n"
     ]
    },
    {
     "name": "stdout",
     "output_type": "stream",
     "text": [
      "Processado e salvo: c:\\Users\\axel.chepanski\\doutor-ia\\1 - extract-pdfs-transformer\\data\\outputs_transformers\\fluidos_11484.json\n"
     ]
    },
    {
     "name": "stderr",
     "output_type": "stream",
     "text": [
      "Your max_length is set to 200, but your input_length is only 105. Since this is a summarization task, where outputs shorter than the input are typically wanted, you might consider decreasing max_length manually, e.g. summarizer('...', max_length=52)\n",
      "Your max_length is set to 200, but your input_length is only 87. Since this is a summarization task, where outputs shorter than the input are typically wanted, you might consider decreasing max_length manually, e.g. summarizer('...', max_length=43)\n",
      "Your max_length is set to 200, but your input_length is only 104. Since this is a summarization task, where outputs shorter than the input are typically wanted, you might consider decreasing max_length manually, e.g. summarizer('...', max_length=52)\n",
      "Your max_length is set to 200, but your input_length is only 106. Since this is a summarization task, where outputs shorter than the input are typically wanted, you might consider decreasing max_length manually, e.g. summarizer('...', max_length=53)\n",
      "Your max_length is set to 200, but your input_length is only 182. Since this is a summarization task, where outputs shorter than the input are typically wanted, you might consider decreasing max_length manually, e.g. summarizer('...', max_length=91)\n",
      "Your max_length is set to 200, but your input_length is only 127. Since this is a summarization task, where outputs shorter than the input are typically wanted, you might consider decreasing max_length manually, e.g. summarizer('...', max_length=63)\n",
      "Your max_length is set to 200, but your input_length is only 117. Since this is a summarization task, where outputs shorter than the input are typically wanted, you might consider decreasing max_length manually, e.g. summarizer('...', max_length=58)\n",
      "Your max_length is set to 200, but your input_length is only 111. Since this is a summarization task, where outputs shorter than the input are typically wanted, you might consider decreasing max_length manually, e.g. summarizer('...', max_length=55)\n",
      "Your max_length is set to 200, but your input_length is only 108. Since this is a summarization task, where outputs shorter than the input are typically wanted, you might consider decreasing max_length manually, e.g. summarizer('...', max_length=54)\n"
     ]
    },
    {
     "name": "stdout",
     "output_type": "stream",
     "text": [
      "Processado e salvo: c:\\Users\\axel.chepanski\\doutor-ia\\1 - extract-pdfs-transformer\\data\\outputs_transformers\\fluidos_11640.json\n"
     ]
    },
    {
     "name": "stderr",
     "output_type": "stream",
     "text": [
      "Your max_length is set to 200, but your input_length is only 148. Since this is a summarization task, where outputs shorter than the input are typically wanted, you might consider decreasing max_length manually, e.g. summarizer('...', max_length=74)\n",
      "Your max_length is set to 200, but your input_length is only 107. Since this is a summarization task, where outputs shorter than the input are typically wanted, you might consider decreasing max_length manually, e.g. summarizer('...', max_length=53)\n",
      "Your max_length is set to 200, but your input_length is only 130. Since this is a summarization task, where outputs shorter than the input are typically wanted, you might consider decreasing max_length manually, e.g. summarizer('...', max_length=65)\n",
      "Your max_length is set to 200, but your input_length is only 128. Since this is a summarization task, where outputs shorter than the input are typically wanted, you might consider decreasing max_length manually, e.g. summarizer('...', max_length=64)\n",
      "Your max_length is set to 200, but your input_length is only 84. Since this is a summarization task, where outputs shorter than the input are typically wanted, you might consider decreasing max_length manually, e.g. summarizer('...', max_length=42)\n",
      "Your max_length is set to 200, but your input_length is only 196. Since this is a summarization task, where outputs shorter than the input are typically wanted, you might consider decreasing max_length manually, e.g. summarizer('...', max_length=98)\n"
     ]
    },
    {
     "name": "stdout",
     "output_type": "stream",
     "text": [
      "Processado e salvo: c:\\Users\\axel.chepanski\\doutor-ia\\1 - extract-pdfs-transformer\\data\\outputs_transformers\\fluidos_13271.json\n"
     ]
    },
    {
     "name": "stderr",
     "output_type": "stream",
     "text": [
      "Your max_length is set to 200, but your input_length is only 84. Since this is a summarization task, where outputs shorter than the input are typically wanted, you might consider decreasing max_length manually, e.g. summarizer('...', max_length=42)\n",
      "Your max_length is set to 200, but your input_length is only 135. Since this is a summarization task, where outputs shorter than the input are typically wanted, you might consider decreasing max_length manually, e.g. summarizer('...', max_length=67)\n",
      "Your max_length is set to 200, but your input_length is only 121. Since this is a summarization task, where outputs shorter than the input are typically wanted, you might consider decreasing max_length manually, e.g. summarizer('...', max_length=60)\n",
      "Your max_length is set to 200, but your input_length is only 174. Since this is a summarization task, where outputs shorter than the input are typically wanted, you might consider decreasing max_length manually, e.g. summarizer('...', max_length=87)\n",
      "Your max_length is set to 200, but your input_length is only 163. Since this is a summarization task, where outputs shorter than the input are typically wanted, you might consider decreasing max_length manually, e.g. summarizer('...', max_length=81)\n",
      "Your max_length is set to 200, but your input_length is only 184. Since this is a summarization task, where outputs shorter than the input are typically wanted, you might consider decreasing max_length manually, e.g. summarizer('...', max_length=92)\n",
      "Your max_length is set to 200, but your input_length is only 184. Since this is a summarization task, where outputs shorter than the input are typically wanted, you might consider decreasing max_length manually, e.g. summarizer('...', max_length=92)\n",
      "Your max_length is set to 200, but your input_length is only 154. Since this is a summarization task, where outputs shorter than the input are typically wanted, you might consider decreasing max_length manually, e.g. summarizer('...', max_length=77)\n",
      "Your max_length is set to 200, but your input_length is only 165. Since this is a summarization task, where outputs shorter than the input are typically wanted, you might consider decreasing max_length manually, e.g. summarizer('...', max_length=82)\n",
      "Your max_length is set to 200, but your input_length is only 132. Since this is a summarization task, where outputs shorter than the input are typically wanted, you might consider decreasing max_length manually, e.g. summarizer('...', max_length=66)\n"
     ]
    },
    {
     "name": "stdout",
     "output_type": "stream",
     "text": [
      "Processado e salvo: c:\\Users\\axel.chepanski\\doutor-ia\\1 - extract-pdfs-transformer\\data\\outputs_transformers\\fluidos_13417.json\n"
     ]
    },
    {
     "name": "stderr",
     "output_type": "stream",
     "text": [
      "Your max_length is set to 200, but your input_length is only 136. Since this is a summarization task, where outputs shorter than the input are typically wanted, you might consider decreasing max_length manually, e.g. summarizer('...', max_length=68)\n",
      "Your max_length is set to 200, but your input_length is only 135. Since this is a summarization task, where outputs shorter than the input are typically wanted, you might consider decreasing max_length manually, e.g. summarizer('...', max_length=67)\n",
      "Your max_length is set to 200, but your input_length is only 121. Since this is a summarization task, where outputs shorter than the input are typically wanted, you might consider decreasing max_length manually, e.g. summarizer('...', max_length=60)\n",
      "Your max_length is set to 200, but your input_length is only 163. Since this is a summarization task, where outputs shorter than the input are typically wanted, you might consider decreasing max_length manually, e.g. summarizer('...', max_length=81)\n",
      "Your max_length is set to 200, but your input_length is only 184. Since this is a summarization task, where outputs shorter than the input are typically wanted, you might consider decreasing max_length manually, e.g. summarizer('...', max_length=92)\n",
      "Your max_length is set to 200, but your input_length is only 184. Since this is a summarization task, where outputs shorter than the input are typically wanted, you might consider decreasing max_length manually, e.g. summarizer('...', max_length=92)\n",
      "Your max_length is set to 200, but your input_length is only 154. Since this is a summarization task, where outputs shorter than the input are typically wanted, you might consider decreasing max_length manually, e.g. summarizer('...', max_length=77)\n",
      "Your max_length is set to 200, but your input_length is only 139. Since this is a summarization task, where outputs shorter than the input are typically wanted, you might consider decreasing max_length manually, e.g. summarizer('...', max_length=69)\n",
      "Your max_length is set to 200, but your input_length is only 126. Since this is a summarization task, where outputs shorter than the input are typically wanted, you might consider decreasing max_length manually, e.g. summarizer('...', max_length=63)\n"
     ]
    },
    {
     "name": "stdout",
     "output_type": "stream",
     "text": [
      "Processado e salvo: c:\\Users\\axel.chepanski\\doutor-ia\\1 - extract-pdfs-transformer\\data\\outputs_transformers\\fluidos_13472.json\n",
      "Processado e salvo: c:\\Users\\axel.chepanski\\doutor-ia\\1 - extract-pdfs-transformer\\data\\outputs_transformers\\fluidos_13572.json\n"
     ]
    },
    {
     "name": "stderr",
     "output_type": "stream",
     "text": [
      "Your max_length is set to 200, but your input_length is only 77. Since this is a summarization task, where outputs shorter than the input are typically wanted, you might consider decreasing max_length manually, e.g. summarizer('...', max_length=38)\n"
     ]
    },
    {
     "name": "stdout",
     "output_type": "stream",
     "text": [
      "Processado e salvo: c:\\Users\\axel.chepanski\\doutor-ia\\1 - extract-pdfs-transformer\\data\\outputs_transformers\\fluidos_13852.json\n"
     ]
    },
    {
     "name": "stderr",
     "output_type": "stream",
     "text": [
      "Your max_length is set to 200, but your input_length is only 112. Since this is a summarization task, where outputs shorter than the input are typically wanted, you might consider decreasing max_length manually, e.g. summarizer('...', max_length=56)\n",
      "Your max_length is set to 200, but your input_length is only 116. Since this is a summarization task, where outputs shorter than the input are typically wanted, you might consider decreasing max_length manually, e.g. summarizer('...', max_length=58)\n",
      "Your max_length is set to 200, but your input_length is only 139. Since this is a summarization task, where outputs shorter than the input are typically wanted, you might consider decreasing max_length manually, e.g. summarizer('...', max_length=69)\n",
      "Your max_length is set to 200, but your input_length is only 193. Since this is a summarization task, where outputs shorter than the input are typically wanted, you might consider decreasing max_length manually, e.g. summarizer('...', max_length=96)\n",
      "Your max_length is set to 200, but your input_length is only 192. Since this is a summarization task, where outputs shorter than the input are typically wanted, you might consider decreasing max_length manually, e.g. summarizer('...', max_length=96)\n",
      "Your max_length is set to 200, but your input_length is only 176. Since this is a summarization task, where outputs shorter than the input are typically wanted, you might consider decreasing max_length manually, e.g. summarizer('...', max_length=88)\n"
     ]
    }
   ],
   "source": [
    "if __name__ == \"__main__\":\n",
    "    # Configurações\n",
    "    input_dir = DIR_DATA_PROCESSED_CLEAN  # Pasta com os JSONs extraídos\n",
    "    output_dir = DIR_DATA_OUTPUTS_TRANSFORMERS  # Pasta para salvar os resultados\n",
    "    model_name = \"google/flan-t5-small\"  # Modelo Transformer a ser usado\n",
    "    task = \"summarization\"  # Task: \"summarization\" ou \"question-answering\"\n",
    "    question = \"Qual é a informação mais importante deste texto?\"  # Necessário para QA\n",
    "\n",
    "    # Carregar o pipeline\n",
    "    print(f\"Carregando modelo {model_name} para a tarefa '{task}'...\")\n",
    "    transformer_pipeline = load_transformer_pipeline(task, model_name)\n",
    "\n",
    "    # Processar arquivos JSON\n",
    "    process_json_files(input_dir, output_dir, transformer_pipeline, task, question)"
   ]
  }
 ],
 "metadata": {
  "kernelspec": {
   "display_name": ".venv",
   "language": "python",
   "name": "python3"
  },
  "language_info": {
   "codemirror_mode": {
    "name": "ipython",
    "version": 3
   },
   "file_extension": ".py",
   "mimetype": "text/x-python",
   "name": "python",
   "nbconvert_exporter": "python",
   "pygments_lexer": "ipython3",
   "version": "3.11.4"
  }
 },
 "nbformat": 4,
 "nbformat_minor": 2
}
