{
 "cells": [
  {
   "cell_type": "markdown",
   "metadata": {},
   "source": [
    "### Testes de extração"
   ]
  },
  {
   "cell_type": "code",
   "execution_count": 14,
   "metadata": {},
   "outputs": [],
   "source": [
    "import fitz  # PyMuPDF\n",
    "import pytesseract\n",
    "from pytesseract import Output\n",
    "from PIL import Image\n",
    "import json\n",
    "import os\n",
    "import logging"
   ]
  },
  {
   "cell_type": "code",
   "execution_count": null,
   "metadata": {},
   "outputs": [],
   "source": [
    "BASE_DIR = os.getcwd()\n",
    "DIR_PAI = os.path.dirname(BASE_DIR)\n",
    "DIR_DATA = os.path.join(DIR_PAI, \"data\")\n",
    "DIR_DATA_RAW = os.path.join(DIR_DATA, \"raw\")\n",
    "DIR_DATA_PROCESSED =  os.path.join(DIR_DATA, \"processed\")\n",
    "DIR_DATA_OUTPUTS_TRANSFORMERS =  os.path.join(DIR_DATA, \"outputs_transformers\")"
   ]
  },
  {
   "cell_type": "code",
   "execution_count": 16,
   "metadata": {},
   "outputs": [],
   "source": [
    "#pdf_path = DIR_DATA_RAW+\"\\\\onix.pdf\""
   ]
  },
  {
   "cell_type": "code",
   "execution_count": 17,
   "metadata": {},
   "outputs": [],
   "source": [
    "# Configuração de logging\n",
    "logging.basicConfig(\n",
    "    level=logging.INFO,\n",
    "    format='%(asctime)s - %(levelname)s - %(message)s',\n",
    "    handlers=[\n",
    "        logging.StreamHandler(),  # Logs no console\n",
    "        logging.FileHandler(DIR_DATA+\"\\\\logs\\\\processed\\\\extraction.log\")  # Logs em arquivo\n",
    "    ]\n",
    ")"
   ]
  },
  {
   "cell_type": "code",
   "execution_count": 18,
   "metadata": {},
   "outputs": [],
   "source": [
    "def extract_text_from_pdf(pdf_path):\n",
    "    \"\"\"\n",
    "    Extrai texto de um PDF. Usa PyMuPDF para PDFs pesquisáveis e Tesseract OCR para imagens.\n",
    "\n",
    "    Args:\n",
    "        pdf_path (str): Caminho para o arquivo PDF.\n",
    "\n",
    "    Returns:\n",
    "        list: Lista de dicionários contendo número da página e texto extraído.\n",
    "    \"\"\"\n",
    "    logging.info(f\"Iniciando extração de texto para {pdf_path}\")\n",
    "    pdf_document = fitz.open(pdf_path)\n",
    "    extracted_data = []\n",
    "\n",
    "    for page_num in range(len(pdf_document)):\n",
    "        try:\n",
    "            page = pdf_document[page_num]\n",
    "            text = page.get_text(\"text\")  # Extrai texto pesquisável\n",
    "\n",
    "            # Verifica se a página possui texto extraível\n",
    "            if not text.strip():\n",
    "                logging.info(f\"Página {page_num + 1} sem texto. Aplicando OCR...\")\n",
    "                pix = page.get_pixmap()\n",
    "                img = Image.frombytes(\"RGB\", [pix.width, pix.height], pix.samples)\n",
    "                text = pytesseract.image_to_string(img, lang=\"por\", output_type=Output.STRING)\n",
    "\n",
    "            extracted_data.append({\n",
    "                \"page\": page_num + 1,\n",
    "                \"text\": text.strip()\n",
    "            })\n",
    "        except Exception as e:\n",
    "            logging.error(f\"Erro ao processar a página {page_num + 1} do arquivo {pdf_path}: {e}\")\n",
    "            extracted_data.append({\n",
    "                \"page\": page_num + 1,\n",
    "                \"text\": \"\",\n",
    "                \"error\": str(e)\n",
    "            })\n",
    "\n",
    "    pdf_document.close()\n",
    "    logging.info(f\"Extração concluída para {pdf_path}\")\n",
    "    return extracted_data"
   ]
  },
  {
   "cell_type": "code",
   "execution_count": 19,
   "metadata": {},
   "outputs": [],
   "source": [
    "def save_as_json(data, output_path):\n",
    "    \"\"\"\n",
    "    Salva os dados extraídos em formato JSON.\n",
    "\n",
    "    Args:\n",
    "        data (list): Dados extraídos do PDF.\n",
    "        output_path (str): Caminho para salvar o arquivo JSON.\n",
    "    \"\"\"\n",
    "    try:\n",
    "        with open(output_path, \"w\", encoding=\"utf-8\") as f:\n",
    "            json.dump(data, f, ensure_ascii=False, indent=4)\n",
    "        logging.info(f\"Dados extraídos salvos em {output_path}\")\n",
    "    except Exception as e:\n",
    "        logging.error(f\"Erro ao salvar arquivo JSON em {output_path}: {e}\")"
   ]
  },
  {
   "cell_type": "code",
   "execution_count": 20,
   "metadata": {},
   "outputs": [
    {
     "name": "stderr",
     "output_type": "stream",
     "text": [
      "2024-12-10 15:51:38,255 - INFO - Processando arquivo 1 - Engine Control-Fuel System.pdf...\n",
      "2024-12-10 15:51:38,256 - INFO - Iniciando extração de texto para c:\\Users\\axel.chepanski\\doutor-ia\\1 - extract-pdfs-transformer\\data\\raw\\1 - Engine Control-Fuel System.pdf\n",
      "2024-12-10 15:51:38,612 - INFO - Extração concluída para c:\\Users\\axel.chepanski\\doutor-ia\\1 - extract-pdfs-transformer\\data\\raw\\1 - Engine Control-Fuel System.pdf\n",
      "2024-12-10 15:51:38,615 - INFO - Dados extraídos salvos em c:\\Users\\axel.chepanski\\doutor-ia\\1 - extract-pdfs-transformer\\data\\processed\\1 - Engine Control-Fuel System.json\n",
      "2024-12-10 15:51:38,616 - INFO - Processando arquivo 2 - Sistema do imobilizador.pdf...\n",
      "2024-12-10 15:51:38,616 - INFO - Iniciando extração de texto para c:\\Users\\axel.chepanski\\doutor-ia\\1 - extract-pdfs-transformer\\data\\raw\\2 - Sistema do imobilizador.pdf\n",
      "2024-12-10 15:51:38,741 - INFO - Extração concluída para c:\\Users\\axel.chepanski\\doutor-ia\\1 - extract-pdfs-transformer\\data\\raw\\2 - Sistema do imobilizador.pdf\n",
      "2024-12-10 15:51:38,744 - INFO - Dados extraídos salvos em c:\\Users\\axel.chepanski\\doutor-ia\\1 - extract-pdfs-transformer\\data\\processed\\2 - Sistema do imobilizador.json\n",
      "2024-12-10 15:51:38,744 - INFO - Processando arquivo fluidos_11484.pdf...\n",
      "2024-12-10 15:51:38,745 - INFO - Iniciando extração de texto para c:\\Users\\axel.chepanski\\doutor-ia\\1 - extract-pdfs-transformer\\data\\raw\\fluidos_11484.pdf\n",
      "2024-12-10 15:51:38,807 - INFO - Extração concluída para c:\\Users\\axel.chepanski\\doutor-ia\\1 - extract-pdfs-transformer\\data\\raw\\fluidos_11484.pdf\n",
      "2024-12-10 15:51:38,809 - INFO - Dados extraídos salvos em c:\\Users\\axel.chepanski\\doutor-ia\\1 - extract-pdfs-transformer\\data\\processed\\fluidos_11484.json\n",
      "2024-12-10 15:51:38,810 - INFO - Processando arquivo fluidos_11640.pdf...\n",
      "2024-12-10 15:51:38,810 - INFO - Iniciando extração de texto para c:\\Users\\axel.chepanski\\doutor-ia\\1 - extract-pdfs-transformer\\data\\raw\\fluidos_11640.pdf\n",
      "2024-12-10 15:51:38,935 - INFO - Extração concluída para c:\\Users\\axel.chepanski\\doutor-ia\\1 - extract-pdfs-transformer\\data\\raw\\fluidos_11640.pdf\n",
      "2024-12-10 15:51:38,937 - INFO - Dados extraídos salvos em c:\\Users\\axel.chepanski\\doutor-ia\\1 - extract-pdfs-transformer\\data\\processed\\fluidos_11640.json\n",
      "2024-12-10 15:51:38,937 - INFO - Processando arquivo fluidos_13271.pdf...\n",
      "2024-12-10 15:51:38,938 - INFO - Iniciando extração de texto para c:\\Users\\axel.chepanski\\doutor-ia\\1 - extract-pdfs-transformer\\data\\raw\\fluidos_13271.pdf\n",
      "2024-12-10 15:51:39,027 - INFO - Extração concluída para c:\\Users\\axel.chepanski\\doutor-ia\\1 - extract-pdfs-transformer\\data\\raw\\fluidos_13271.pdf\n",
      "2024-12-10 15:51:39,030 - INFO - Dados extraídos salvos em c:\\Users\\axel.chepanski\\doutor-ia\\1 - extract-pdfs-transformer\\data\\processed\\fluidos_13271.json\n",
      "2024-12-10 15:51:39,030 - INFO - Processando arquivo fluidos_13417.pdf...\n",
      "2024-12-10 15:51:39,031 - INFO - Iniciando extração de texto para c:\\Users\\axel.chepanski\\doutor-ia\\1 - extract-pdfs-transformer\\data\\raw\\fluidos_13417.pdf\n",
      "2024-12-10 15:51:39,197 - INFO - Extração concluída para c:\\Users\\axel.chepanski\\doutor-ia\\1 - extract-pdfs-transformer\\data\\raw\\fluidos_13417.pdf\n",
      "2024-12-10 15:51:39,199 - INFO - Dados extraídos salvos em c:\\Users\\axel.chepanski\\doutor-ia\\1 - extract-pdfs-transformer\\data\\processed\\fluidos_13417.json\n",
      "2024-12-10 15:51:39,200 - INFO - Processando arquivo fluidos_13472.pdf...\n",
      "2024-12-10 15:51:39,200 - INFO - Iniciando extração de texto para c:\\Users\\axel.chepanski\\doutor-ia\\1 - extract-pdfs-transformer\\data\\raw\\fluidos_13472.pdf\n",
      "2024-12-10 15:51:39,384 - INFO - Extração concluída para c:\\Users\\axel.chepanski\\doutor-ia\\1 - extract-pdfs-transformer\\data\\raw\\fluidos_13472.pdf\n",
      "2024-12-10 15:51:39,386 - INFO - Dados extraídos salvos em c:\\Users\\axel.chepanski\\doutor-ia\\1 - extract-pdfs-transformer\\data\\processed\\fluidos_13472.json\n",
      "2024-12-10 15:51:39,387 - INFO - Processando arquivo fluidos_13572.pdf...\n",
      "2024-12-10 15:51:39,388 - INFO - Iniciando extração de texto para c:\\Users\\axel.chepanski\\doutor-ia\\1 - extract-pdfs-transformer\\data\\raw\\fluidos_13572.pdf\n",
      "2024-12-10 15:51:39,575 - INFO - Extração concluída para c:\\Users\\axel.chepanski\\doutor-ia\\1 - extract-pdfs-transformer\\data\\raw\\fluidos_13572.pdf\n",
      "2024-12-10 15:51:39,577 - INFO - Dados extraídos salvos em c:\\Users\\axel.chepanski\\doutor-ia\\1 - extract-pdfs-transformer\\data\\processed\\fluidos_13572.json\n",
      "2024-12-10 15:51:39,578 - INFO - Processando arquivo fluidos_13852.pdf...\n",
      "2024-12-10 15:51:39,578 - INFO - Iniciando extração de texto para c:\\Users\\axel.chepanski\\doutor-ia\\1 - extract-pdfs-transformer\\data\\raw\\fluidos_13852.pdf\n",
      "2024-12-10 15:51:39,714 - INFO - Extração concluída para c:\\Users\\axel.chepanski\\doutor-ia\\1 - extract-pdfs-transformer\\data\\raw\\fluidos_13852.pdf\n",
      "2024-12-10 15:51:39,716 - INFO - Dados extraídos salvos em c:\\Users\\axel.chepanski\\doutor-ia\\1 - extract-pdfs-transformer\\data\\processed\\fluidos_13852.json\n",
      "2024-12-10 15:51:39,716 - INFO - Processando arquivo fluidos_4802.pdf...\n",
      "2024-12-10 15:51:39,717 - INFO - Iniciando extração de texto para c:\\Users\\axel.chepanski\\doutor-ia\\1 - extract-pdfs-transformer\\data\\raw\\fluidos_4802.pdf\n",
      "2024-12-10 15:51:39,887 - INFO - Extração concluída para c:\\Users\\axel.chepanski\\doutor-ia\\1 - extract-pdfs-transformer\\data\\raw\\fluidos_4802.pdf\n",
      "2024-12-10 15:51:39,890 - INFO - Dados extraídos salvos em c:\\Users\\axel.chepanski\\doutor-ia\\1 - extract-pdfs-transformer\\data\\processed\\fluidos_4802.json\n",
      "2024-12-10 15:51:39,890 - INFO - Processando arquivo motor_21156.pdf...\n",
      "2024-12-10 15:51:39,891 - INFO - Iniciando extração de texto para c:\\Users\\axel.chepanski\\doutor-ia\\1 - extract-pdfs-transformer\\data\\raw\\motor_21156.pdf\n",
      "2024-12-10 15:51:40,207 - INFO - Extração concluída para c:\\Users\\axel.chepanski\\doutor-ia\\1 - extract-pdfs-transformer\\data\\raw\\motor_21156.pdf\n",
      "2024-12-10 15:51:40,208 - INFO - Dados extraídos salvos em c:\\Users\\axel.chepanski\\doutor-ia\\1 - extract-pdfs-transformer\\data\\processed\\motor_21156.json\n",
      "2024-12-10 15:51:40,209 - INFO - Processando arquivo motor_21236.pdf...\n",
      "2024-12-10 15:51:40,209 - INFO - Iniciando extração de texto para c:\\Users\\axel.chepanski\\doutor-ia\\1 - extract-pdfs-transformer\\data\\raw\\motor_21236.pdf\n",
      "2024-12-10 15:51:40,741 - INFO - Extração concluída para c:\\Users\\axel.chepanski\\doutor-ia\\1 - extract-pdfs-transformer\\data\\raw\\motor_21236.pdf\n",
      "2024-12-10 15:51:40,743 - INFO - Dados extraídos salvos em c:\\Users\\axel.chepanski\\doutor-ia\\1 - extract-pdfs-transformer\\data\\processed\\motor_21236.json\n",
      "2024-12-10 15:51:40,745 - INFO - Processando arquivo motor_22547.pdf...\n",
      "2024-12-10 15:51:40,745 - INFO - Iniciando extração de texto para c:\\Users\\axel.chepanski\\doutor-ia\\1 - extract-pdfs-transformer\\data\\raw\\motor_22547.pdf\n",
      "2024-12-10 15:51:40,997 - INFO - Extração concluída para c:\\Users\\axel.chepanski\\doutor-ia\\1 - extract-pdfs-transformer\\data\\raw\\motor_22547.pdf\n",
      "2024-12-10 15:51:40,999 - INFO - Dados extraídos salvos em c:\\Users\\axel.chepanski\\doutor-ia\\1 - extract-pdfs-transformer\\data\\processed\\motor_22547.json\n",
      "2024-12-10 15:51:40,999 - INFO - Processando arquivo motor_4222.pdf...\n",
      "2024-12-10 15:51:41,000 - INFO - Iniciando extração de texto para c:\\Users\\axel.chepanski\\doutor-ia\\1 - extract-pdfs-transformer\\data\\raw\\motor_4222.pdf\n",
      "2024-12-10 15:51:41,300 - INFO - Extração concluída para c:\\Users\\axel.chepanski\\doutor-ia\\1 - extract-pdfs-transformer\\data\\raw\\motor_4222.pdf\n",
      "2024-12-10 15:51:41,302 - INFO - Dados extraídos salvos em c:\\Users\\axel.chepanski\\doutor-ia\\1 - extract-pdfs-transformer\\data\\processed\\motor_4222.json\n",
      "2024-12-10 15:51:41,303 - INFO - Processando arquivo motor_5162.pdf...\n",
      "2024-12-10 15:51:41,303 - INFO - Iniciando extração de texto para c:\\Users\\axel.chepanski\\doutor-ia\\1 - extract-pdfs-transformer\\data\\raw\\motor_5162.pdf\n",
      "2024-12-10 15:51:41,682 - INFO - Extração concluída para c:\\Users\\axel.chepanski\\doutor-ia\\1 - extract-pdfs-transformer\\data\\raw\\motor_5162.pdf\n",
      "2024-12-10 15:51:41,684 - INFO - Dados extraídos salvos em c:\\Users\\axel.chepanski\\doutor-ia\\1 - extract-pdfs-transformer\\data\\processed\\motor_5162.json\n",
      "2024-12-10 15:51:41,684 - INFO - Processando arquivo motor_5218.pdf...\n",
      "2024-12-10 15:51:41,685 - INFO - Iniciando extração de texto para c:\\Users\\axel.chepanski\\doutor-ia\\1 - extract-pdfs-transformer\\data\\raw\\motor_5218.pdf\n",
      "2024-12-10 15:51:42,129 - INFO - Extração concluída para c:\\Users\\axel.chepanski\\doutor-ia\\1 - extract-pdfs-transformer\\data\\raw\\motor_5218.pdf\n",
      "2024-12-10 15:51:42,130 - INFO - Dados extraídos salvos em c:\\Users\\axel.chepanski\\doutor-ia\\1 - extract-pdfs-transformer\\data\\processed\\motor_5218.json\n",
      "2024-12-10 15:51:42,131 - INFO - Processando arquivo motor_8878.pdf...\n",
      "2024-12-10 15:51:42,131 - INFO - Iniciando extração de texto para c:\\Users\\axel.chepanski\\doutor-ia\\1 - extract-pdfs-transformer\\data\\raw\\motor_8878.pdf\n",
      "2024-12-10 15:51:42,593 - INFO - Extração concluída para c:\\Users\\axel.chepanski\\doutor-ia\\1 - extract-pdfs-transformer\\data\\raw\\motor_8878.pdf\n",
      "2024-12-10 15:51:42,595 - INFO - Dados extraídos salvos em c:\\Users\\axel.chepanski\\doutor-ia\\1 - extract-pdfs-transformer\\data\\processed\\motor_8878.json\n",
      "2024-12-10 15:51:42,595 - INFO - Processando arquivo onix.pdf...\n",
      "2024-12-10 15:51:42,596 - INFO - Iniciando extração de texto para c:\\Users\\axel.chepanski\\doutor-ia\\1 - extract-pdfs-transformer\\data\\raw\\onix.pdf\n",
      "2024-12-10 15:51:42,606 - INFO - Página 1 sem texto. Aplicando OCR...\n",
      "2024-12-10 15:51:43,174 - INFO - Extração concluída para c:\\Users\\axel.chepanski\\doutor-ia\\1 - extract-pdfs-transformer\\data\\raw\\onix.pdf\n",
      "2024-12-10 15:51:43,176 - INFO - Dados extraídos salvos em c:\\Users\\axel.chepanski\\doutor-ia\\1 - extract-pdfs-transformer\\data\\processed\\onix.json\n"
     ]
    }
   ],
   "source": [
    "if __name__ == \"__main__\":\n",
    "    # Configuração de diretórios\n",
    "    input_dir = DIR_DATA_RAW\n",
    "    output_dir = DIR_DATA_PROCESSED\n",
    "    os.makedirs(output_dir, exist_ok=True)\n",
    "\n",
    "    for pdf_file in os.listdir(input_dir):\n",
    "        if pdf_file.endswith(\".pdf\"):\n",
    "            pdf_path = os.path.join(input_dir, pdf_file)\n",
    "            output_path = os.path.join(output_dir, pdf_file.replace(\".pdf\", \".json\"))\n",
    "\n",
    "            try:\n",
    "                logging.info(f\"Processando arquivo {pdf_file}...\")\n",
    "                extracted_data = extract_text_from_pdf(pdf_path)\n",
    "                save_as_json(extracted_data, output_path)\n",
    "            except Exception as e:\n",
    "                logging.error(f\"Erro ao processar {pdf_file}: {e}\")"
   ]
  },
  {
   "cell_type": "markdown",
   "metadata": {},
   "source": [
    "_____________________________"
   ]
  }
 ],
 "metadata": {
  "kernelspec": {
   "display_name": ".venv",
   "language": "python",
   "name": "python3"
  },
  "language_info": {
   "codemirror_mode": {
    "name": "ipython",
    "version": 3
   },
   "file_extension": ".py",
   "mimetype": "text/x-python",
   "name": "python",
   "nbconvert_exporter": "python",
   "pygments_lexer": "ipython3",
   "version": "3.11.4"
  }
 },
 "nbformat": 4,
 "nbformat_minor": 2
}
