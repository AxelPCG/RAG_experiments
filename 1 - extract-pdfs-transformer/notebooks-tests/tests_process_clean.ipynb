{
 "cells": [
  {
   "cell_type": "markdown",
   "metadata": {},
   "source": [
    "### Testes de Pré-processamento"
   ]
  },
  {
   "cell_type": "code",
   "execution_count": 43,
   "metadata": {},
   "outputs": [],
   "source": [
    "import os\n",
    "import json\n",
    "import re"
   ]
  },
  {
   "cell_type": "code",
   "execution_count": 44,
   "metadata": {},
   "outputs": [],
   "source": [
    "BASE_DIR = os.getcwd()\n",
    "DIR_PAI = os.path.dirname(BASE_DIR)\n",
    "DIR_DATA = os.path.join(DIR_PAI, \"data\")\n",
    "DIR_DATA_RAW = os.path.join(DIR_DATA, \"raw\")\n",
    "DIR_DATA_PROCESSED =  os.path.join(DIR_DATA, \"processed\")\n",
    "DIR_DATA_PROCESSED_CLEAN =  os.path.join(DIR_DATA, \"processed_clean\")"
   ]
  },
  {
   "cell_type": "code",
   "execution_count": 45,
   "metadata": {},
   "outputs": [
    {
     "name": "stdout",
     "output_type": "stream",
     "text": [
      "Processamento concluído. Arquivos salvos em: c:\\Users\\axel.chepanski\\doutor-ia\\1 - extract-pdfs-transformer\\data\\processed_clean\n"
     ]
    }
   ],
   "source": [
    "# Criar o diretório de saída, se não existir\n",
    "os.makedirs(DIR_DATA_PROCESSED_CLEAN, exist_ok=True)\n",
    "\n",
    "# Lista de padrões abrangendo variações da frase\n",
    "frases_a_remover = [\n",
    "    r\"e o contrato de licença de uso.*?Doutor-IE Online\",\n",
    "    r\"Esta página é parte integrante da Enciclopédia Automotiva.*?Doutor-IE Online\",\n",
    "    r\"Reprodução, distribuição, compartilhamento e comercialização são proibidas.*?Lei dos Direitos Autorais.*?\",\n",
    "    r\"Denuncie a cópia fraudulenta pelo fone.*?direitos reservados\\.\",\n",
    "    r\"\\(lei 9610/1998\\)\",\n",
    "    r\"\\ne o contrato de licença de uso.\",\n",
    "    r\"\\nEsta página é parte integrante da Plataforma Doutor-IE.\"\n",
    "]\n",
    "\n",
    "def limpar_texto(texto, frases):\n",
    "    \"\"\"Remove frases indesejadas do texto usando regex.\"\"\"\n",
    "    for frase in frases:\n",
    "        texto = re.sub(frase, '', texto, flags=re.IGNORECASE | re.DOTALL | re.MULTILINE)\n",
    "    return texto.strip()\n",
    "\n",
    "# Iterar pelos arquivos no diretório de entrada\n",
    "for arquivo_nome in os.listdir(DIR_DATA_PROCESSED):\n",
    "    if arquivo_nome.endswith(\".json\"):\n",
    "        caminho_completo_entrada = os.path.join(DIR_DATA_PROCESSED, arquivo_nome)\n",
    "        caminho_completo_saida = os.path.join(DIR_DATA_PROCESSED_CLEAN, arquivo_nome)\n",
    "\n",
    "        # Abrir e carregar o arquivo JSON\n",
    "        with open(caminho_completo_entrada, \"r\", encoding=\"utf-8\") as arquivo:\n",
    "            dados = json.load(arquivo)\n",
    "\n",
    "        # Processar cada página\n",
    "        for pagina in dados:\n",
    "            if \"text\" in pagina:\n",
    "                texto_original = pagina[\"text\"]\n",
    "                texto_limpo = limpar_texto(texto_original, frases_a_remover)\n",
    "                pagina[\"text\"] = texto_limpo\n",
    "\n",
    "        # Salvar o arquivo JSON processado no diretório de saída\n",
    "        with open(caminho_completo_saida, \"w\", encoding=\"utf-8\") as arquivo:\n",
    "            json.dump(dados, arquivo, ensure_ascii=False, indent=4)\n",
    "\n",
    "print(f\"Processamento concluído. Arquivos salvos em: {DIR_DATA_PROCESSED_CLEAN}\")"
   ]
  }
 ],
 "metadata": {
  "kernelspec": {
   "display_name": ".venv",
   "language": "python",
   "name": "python3"
  },
  "language_info": {
   "codemirror_mode": {
    "name": "ipython",
    "version": 3
   },
   "file_extension": ".py",
   "mimetype": "text/x-python",
   "name": "python",
   "nbconvert_exporter": "python",
   "pygments_lexer": "ipython3",
   "version": "3.11.4"
  }
 },
 "nbformat": 4,
 "nbformat_minor": 2
}
