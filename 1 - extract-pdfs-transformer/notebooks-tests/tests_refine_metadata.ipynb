{
 "cells": [
  {
   "cell_type": "code",
   "execution_count": 1,
   "metadata": {},
   "outputs": [],
   "source": [
    "import os\n",
    "import re\n",
    "import pandas as pd"
   ]
  },
  {
   "cell_type": "code",
   "execution_count": 4,
   "metadata": {},
   "outputs": [],
   "source": [
    "# Diretórios principais\n",
    "BASE_DIR = BASE_DIR = os.getcwd()\n",
    "DIR_PAI = os.path.dirname(BASE_DIR)  # Diretório pai\n",
    "DIR_SRC = os.path.join(DIR_PAI,'src')  # Diretório src\n",
    "DIR_VECTORSTORE = os.path.join(DIR_SRC,'vector_store') \n",
    "DIR_DATA = os.path.join(DIR_PAI, \"data\")  # Diretório de dados\n",
    "DIR_DATA_RAW = os.path.join(DIR_DATA, \"raw\")  # Diretório para dados brutos\n",
    "DIR_LOGS =  os.path.join(DIR_DATA, \"logs\") # Diretório de logs\n",
    "DIR_DATA_REFINEMENT = os.path.join(DIR_DATA, \"outputs_vision_and_extractor\")  # Diretório de refinamento"
   ]
  },
  {
   "cell_type": "code",
   "execution_count": 3,
   "metadata": {},
   "outputs": [],
   "source": [
    "# Função para analisar pastas com formatação correta e gerar o CSV\n",
    "def gerar_csv_formatado(diretorio, nome_csv_saida):\n",
    "    dados = []\n",
    "\n",
    "    # Regex para validar o formato subcategoria_id\n",
    "    padrao = re.compile(r'^([a-zA-Z]+)_(\\d+)$')\n",
    "\n",
    "    # Itera pelas pastas no diretório\n",
    "    for item in os.listdir(diretorio):\n",
    "        caminho_completo = os.path.join(diretorio, item)\n",
    "\n",
    "        # Verifica se é uma pasta e se corresponde ao padrão\n",
    "        if os.path.isdir(caminho_completo):\n",
    "            match = padrao.match(item)\n",
    "            if match:\n",
    "                subcategoria = match.group(1)\n",
    "                arquivo_id = match.group(2)\n",
    "                dados.append({\"arquivo_id\": arquivo_id, \"subcategoria_nome\": subcategoria})\n",
    "\n",
    "    # Cria o DataFrame e salva em CSV\n",
    "    if dados:\n",
    "        df = pd.DataFrame(dados)\n",
    "        df.to_csv(nome_csv_saida, index=False)\n",
    "        print(f\"Arquivo CSV gerado com sucesso: {nome_csv_saida}\")\n",
    "    else:\n",
    "        print(\"Nenhuma pasta com a formatação correta foi encontrada.\")"
   ]
  },
  {
   "cell_type": "code",
   "execution_count": 5,
   "metadata": {},
   "outputs": [],
   "source": [
    "subcategoria_name = DIR_DATA+\"\\\\subcategoria_name.csv\""
   ]
  },
  {
   "cell_type": "code",
   "execution_count": 6,
   "metadata": {},
   "outputs": [
    {
     "name": "stdout",
     "output_type": "stream",
     "text": [
      "Arquivo CSV gerado com sucesso: c:\\Users\\axel.chepanski\\doutor-ia\\1 - extract-pdfs-transformer\\data\\subcategoria_name.csv\n"
     ]
    }
   ],
   "source": [
    "# Chama a função\n",
    "gerar_csv_formatado(DIR_DATA_REFINEMENT, subcategoria_name)"
   ]
  }
 ],
 "metadata": {
  "kernelspec": {
   "display_name": ".venv",
   "language": "python",
   "name": "python3"
  },
  "language_info": {
   "codemirror_mode": {
    "name": "ipython",
    "version": 3
   },
   "file_extension": ".py",
   "mimetype": "text/x-python",
   "name": "python",
   "nbconvert_exporter": "python",
   "pygments_lexer": "ipython3",
   "version": "3.11.4"
  }
 },
 "nbformat": 4,
 "nbformat_minor": 2
}
